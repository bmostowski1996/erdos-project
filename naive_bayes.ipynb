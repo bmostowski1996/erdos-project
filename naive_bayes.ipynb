{
 "cells": [
  {
   "cell_type": "code",
   "execution_count": 23,
   "id": "143ba6b9",
   "metadata": {},
   "outputs": [],
   "source": [
    "# load all packages\n",
    "import pandas as pd\n",
    "import numpy as np\n",
    "import matplotlib.pyplot as plt\n",
    "from joblib import dump, load\n",
    "from sklearn import preprocessing\n",
    "from sklearn.metrics import accuracy_score\n",
    "from sklearn.model_selection import train_test_split"
   ]
  },
  {
   "cell_type": "code",
   "execution_count": 6,
   "id": "f882730e",
   "metadata": {},
   "outputs": [
    {
     "name": "stdout",
     "output_type": "stream",
     "text": [
      "          ID  LIMIT_BAL  SEX  EDUCATION  MARRIAGE  AGE  PAY_0  PAY_2  PAY_3  \\\n",
      "0          1      20000    2          2         1   24      2      2     -1   \n",
      "1          2     120000    2          2         2   26     -1      2      0   \n",
      "2          3      90000    2          2         2   34      0      0      0   \n",
      "3          4      50000    2          2         1   37      0      0      0   \n",
      "4          5      50000    1          2         1   57     -1      0     -1   \n",
      "...      ...        ...  ...        ...       ...  ...    ...    ...    ...   \n",
      "29995  29996     220000    1          3         1   39      0      0      0   \n",
      "29996  29997     150000    1          3         2   43     -1     -1     -1   \n",
      "29997  29998      30000    1          2         2   37      4      3      2   \n",
      "29998  29999      80000    1          3         1   41      1     -1      0   \n",
      "29999  30000      50000    1          2         1   46      0      0      0   \n",
      "\n",
      "       PAY_4  ...  BILL_AMT4  BILL_AMT5  BILL_AMT6  PAY_AMT1  PAY_AMT2  \\\n",
      "0         -1  ...          0          0          0         0       689   \n",
      "1          0  ...       3272       3455       3261         0      1000   \n",
      "2          0  ...      14331      14948      15549      1518      1500   \n",
      "3          0  ...      28314      28959      29547      2000      2019   \n",
      "4          0  ...      20940      19146      19131      2000     36681   \n",
      "...      ...  ...        ...        ...        ...       ...       ...   \n",
      "29995      0  ...      88004      31237      15980      8500     20000   \n",
      "29996     -1  ...       8979       5190          0      1837      3526   \n",
      "29997     -1  ...      20878      20582      19357         0         0   \n",
      "29998      0  ...      52774      11855      48944     85900      3409   \n",
      "29999      0  ...      36535      32428      15313      2078      1800   \n",
      "\n",
      "       PAY_AMT3  PAY_AMT4  PAY_AMT5  PAY_AMT6  default  \n",
      "0             0         0         0         0        1  \n",
      "1          1000      1000         0      2000        1  \n",
      "2          1000      1000      1000      5000        0  \n",
      "3          1200      1100      1069      1000        0  \n",
      "4         10000      9000       689       679        0  \n",
      "...         ...       ...       ...       ...      ...  \n",
      "29995      5003      3047      5000      1000        0  \n",
      "29996      8998       129         0         0        0  \n",
      "29997     22000      4200      2000      3100        1  \n",
      "29998      1178      1926     52964      1804        1  \n",
      "29999      1430      1000      1000      1000        1  \n",
      "\n",
      "[30000 rows x 25 columns]\n"
     ]
    }
   ],
   "source": [
    "#load and print dataset. here 1st row is removed from the original dataset and label column name is renamed to \"default\"\n",
    "DataSet = pd.read_csv(\"default_data1.csv\")\n",
    "print(DataSet)"
   ]
  },
  {
   "cell_type": "code",
   "execution_count": 7,
   "id": "759b6bdd",
   "metadata": {},
   "outputs": [],
   "source": [
    "#Dataset preprocessing......\n",
    "# ungrouping categorical data {SEX, EDUCATION,MARRIAGE..} to new feature collumns {Male, Female, Grad_School...}\n",
    "DataSet['SEX'] = DataSet['SEX'].replace(1,'Male')\n",
    "DataSet['SEX'] = DataSet['SEX'].replace(2,'FeMale')\n",
    "DataSet['EDUCATION'] = DataSet['EDUCATION'].replace(1,'Grad_School')\n",
    "DataSet['EDUCATION'] = DataSet['EDUCATION'].replace(2,'University')\n",
    "DataSet['EDUCATION'] = DataSet['EDUCATION'].replace(3,'High_School')\n",
    "DataSet['EDUCATION'] = DataSet['EDUCATION'].replace([0,4,5,6],'Educ_Others')\n",
    "DataSet['MARRIAGE'] = DataSet['MARRIAGE'].replace(1,'Married')\n",
    "DataSet['MARRIAGE'] = DataSet['MARRIAGE'].replace(2,'Single')\n",
    "DataSet['MARRIAGE'] = DataSet['MARRIAGE'].replace([0,3],'Marriage_Others')\n",
    "#adding new feacture collumns \n",
    "DataSet = pd.concat((DataSet,pd.get_dummies(DataSet['SEX'])), axis=1)\n",
    "DataSet = pd.concat((DataSet,pd.get_dummies(DataSet['EDUCATION'])), axis=1)\n",
    "DataSet = pd.concat((DataSet,pd.get_dummies(DataSet['MARRIAGE'])), axis=1)"
   ]
  },
  {
   "cell_type": "code",
   "execution_count": 8,
   "id": "47cab1ed",
   "metadata": {},
   "outputs": [
    {
     "name": "stdout",
     "output_type": "stream",
     "text": [
      "          ID  LIMIT_BAL     SEX    EDUCATION MARRIAGE  AGE  PAY_0  PAY_2  \\\n",
      "0          1      20000  FeMale   University  Married   24      2      2   \n",
      "1          2     120000  FeMale   University   Single   26     -1      2   \n",
      "2          3      90000  FeMale   University   Single   34      0      0   \n",
      "3          4      50000  FeMale   University  Married   37      0      0   \n",
      "4          5      50000    Male   University  Married   57     -1      0   \n",
      "...      ...        ...     ...          ...      ...  ...    ...    ...   \n",
      "29995  29996     220000    Male  High_School  Married   39      0      0   \n",
      "29996  29997     150000    Male  High_School   Single   43     -1     -1   \n",
      "29997  29998      30000    Male   University   Single   37      4      3   \n",
      "29998  29999      80000    Male  High_School  Married   41      1     -1   \n",
      "29999  30000      50000    Male   University  Married   46      0      0   \n",
      "\n",
      "       PAY_3  PAY_4  ...  default  FeMale  Male  Educ_Others  Grad_School  \\\n",
      "0         -1     -1  ...        1       1     0            0            0   \n",
      "1          0      0  ...        1       1     0            0            0   \n",
      "2          0      0  ...        0       1     0            0            0   \n",
      "3          0      0  ...        0       1     0            0            0   \n",
      "4         -1      0  ...        0       0     1            0            0   \n",
      "...      ...    ...  ...      ...     ...   ...          ...          ...   \n",
      "29995      0      0  ...        0       0     1            0            0   \n",
      "29996     -1     -1  ...        0       0     1            0            0   \n",
      "29997      2     -1  ...        1       0     1            0            0   \n",
      "29998      0      0  ...        1       0     1            0            0   \n",
      "29999      0      0  ...        1       0     1            0            0   \n",
      "\n",
      "       High_School  University  Marriage_Others  Married  Single  \n",
      "0                0           1                0        1       0  \n",
      "1                0           1                0        0       1  \n",
      "2                0           1                0        0       1  \n",
      "3                0           1                0        1       0  \n",
      "4                0           1                0        1       0  \n",
      "...            ...         ...              ...      ...     ...  \n",
      "29995            1           0                0        1       0  \n",
      "29996            1           0                0        0       1  \n",
      "29997            0           1                0        0       1  \n",
      "29998            1           0                0        1       0  \n",
      "29999            0           1                0        1       0  \n",
      "\n",
      "[30000 rows x 34 columns]\n"
     ]
    }
   ],
   "source": [
    "print(DataSet)"
   ]
  },
  {
   "cell_type": "code",
   "execution_count": 9,
   "id": "94cdc2c1",
   "metadata": {},
   "outputs": [
    {
     "name": "stdout",
     "output_type": "stream",
     "text": [
      "       LIMIT_BAL  AGE  PAY_0  PAY_2  PAY_3  PAY_4  PAY_5  PAY_6  BILL_AMT1  \\\n",
      "0          20000   24      2      2     -1     -1     -2     -2       3913   \n",
      "1         120000   26     -1      2      0      0      0      2       2682   \n",
      "2          90000   34      0      0      0      0      0      0      29239   \n",
      "3          50000   37      0      0      0      0      0      0      46990   \n",
      "4          50000   57     -1      0     -1      0      0      0       8617   \n",
      "...          ...  ...    ...    ...    ...    ...    ...    ...        ...   \n",
      "29995     220000   39      0      0      0      0      0      0     188948   \n",
      "29996     150000   43     -1     -1     -1     -1      0      0       1683   \n",
      "29997      30000   37      4      3      2     -1      0      0       3565   \n",
      "29998      80000   41      1     -1      0      0      0     -1      -1645   \n",
      "29999      50000   46      0      0      0      0      0      0      47929   \n",
      "\n",
      "       BILL_AMT2  ...  FeMale  Male  Educ_Others  Grad_School  High_School  \\\n",
      "0           3102  ...       1     0            0            0            0   \n",
      "1           1725  ...       1     0            0            0            0   \n",
      "2          14027  ...       1     0            0            0            0   \n",
      "3          48233  ...       1     0            0            0            0   \n",
      "4           5670  ...       0     1            0            0            0   \n",
      "...          ...  ...     ...   ...          ...          ...          ...   \n",
      "29995     192815  ...       0     1            0            0            1   \n",
      "29996       1828  ...       0     1            0            0            1   \n",
      "29997       3356  ...       0     1            0            0            0   \n",
      "29998      78379  ...       0     1            0            0            1   \n",
      "29999      48905  ...       0     1            0            0            0   \n",
      "\n",
      "       University  Marriage_Others  Married  Single  Age_Sqr  \n",
      "0               1                0        1       0      576  \n",
      "1               1                0        0       1      676  \n",
      "2               1                0        0       1     1156  \n",
      "3               1                0        1       0     1369  \n",
      "4               1                0        1       0     3249  \n",
      "...           ...              ...      ...     ...      ...  \n",
      "29995           0                0        1       0     1521  \n",
      "29996           0                0        0       1     1849  \n",
      "29997           1                0        0       1     1369  \n",
      "29998           0                0        1       0     1681  \n",
      "29999           1                0        1       0     2116  \n",
      "\n",
      "[30000 rows x 31 columns]\n"
     ]
    }
   ],
   "source": [
    "#- add age Square -#\n",
    "DataSet['Age_Sqr'] = DataSet['AGE'] ** 2\n",
    "#- drop irrelevant -#\n",
    "DataSet = DataSet.drop(['ID','SEX','EDUCATION','MARRIAGE'],axis=1)\n",
    "print(DataSet)"
   ]
  },
  {
   "cell_type": "code",
   "execution_count": 21,
   "id": "b7c83c37",
   "metadata": {},
   "outputs": [
    {
     "name": "stdout",
     "output_type": "stream",
     "text": [
      "(30000, 30)\n",
      "(12000, 30) (18000, 30) (12000, 1) (18000, 1)\n"
     ]
    }
   ],
   "source": [
    "#preprocessing continues.....\n",
    "# spliting dataset to feature matrix X\" and label array \"y\"\n",
    "y = DataSet.loc[:, DataSet.columns == 'default']\n",
    "X = DataSet.drop(['default'],axis=1)\n",
    "#- convert to arrays -#\n",
    "X = np.asarray(X)\n",
    "y = np.asarray(y)\n",
    "#- normalixing each collumn and \n",
    "X = preprocessing.StandardScaler().fit(X).transform(X)\n",
    "print(X.shape)\n",
    "#spliting for train/test -#\n",
    "X_train, X_test, y_train, y_test = train_test_split(X, y, test_size=0.6, random_state=0)\n",
    "print(X_train.shape, X_test.shape, y_train.shape, y_test.shape)"
   ]
  },
  {
   "cell_type": "code",
   "execution_count": 15,
   "id": "a13663fb",
   "metadata": {},
   "outputs": [],
   "source": [
    "# load NAIVE BAYES model\n",
    "from sklearn.naive_bayes import GaussianNB\n",
    "from sklearn.metrics import accuracy_score"
   ]
  },
  {
   "cell_type": "code",
   "execution_count": 22,
   "id": "7908c399",
   "metadata": {},
   "outputs": [
    {
     "name": "stdout",
     "output_type": "stream",
     "text": [
      "Training Accuracy: 0.5148333333333334\n",
      "Test Accuracy: 0.5116666666666667\n"
     ]
    }
   ],
   "source": [
    "# train and predict\n",
    "naive_bayes = GaussianNB()\n",
    "naive_bayes.fit(X_train, y_train.ravel())\n",
    "y_train_pred = naive_bayes.predict(X_train)\n",
    "y_test_pred = naive_bayes.predict(X_test)\n",
    "train_accuracy = accuracy_score(y_train, y_train_pred)\n",
    "test_accuracy = accuracy_score(y_test, y_test_pred)\n",
    "print(\"Training Accuracy:\", train_accuracy)\n",
    "print(\"Test Accuracy:\", test_accuracy)"
   ]
  },
  {
   "cell_type": "code",
   "execution_count": null,
   "id": "a294b60f",
   "metadata": {},
   "outputs": [],
   "source": []
  }
 ],
 "metadata": {
  "kernelspec": {
   "display_name": "Python 3 (ipykernel)",
   "language": "python",
   "name": "python3"
  },
  "language_info": {
   "codemirror_mode": {
    "name": "ipython",
    "version": 3
   },
   "file_extension": ".py",
   "mimetype": "text/x-python",
   "name": "python",
   "nbconvert_exporter": "python",
   "pygments_lexer": "ipython3",
   "version": "3.10.9"
  }
 },
 "nbformat": 4,
 "nbformat_minor": 5
}
